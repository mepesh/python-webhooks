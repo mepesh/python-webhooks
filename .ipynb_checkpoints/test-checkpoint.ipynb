{
 "cells": [
  {
   "cell_type": "code",
   "execution_count": 1,
   "metadata": {},
   "outputs": [
    {
     "ename": "IndentationError",
     "evalue": "unindent does not match any outer indentation level (dataservices.py, line 137)",
     "output_type": "error",
     "traceback": [
      "Traceback \u001b[1;36m(most recent call last)\u001b[0m:\n",
      "  File \u001b[0;32m\"C:\\Users\\dipesh-10\\Anaconda3\\lib\\site-packages\\IPython\\core\\interactiveshell.py\"\u001b[0m, line \u001b[0;32m3326\u001b[0m, in \u001b[0;35mrun_code\u001b[0m\n    exec(code_obj, self.user_global_ns, self.user_ns)\n",
      "\u001b[1;36m  File \u001b[1;32m\"<ipython-input-1-b988d10e47dd>\"\u001b[1;36m, line \u001b[1;32m1\u001b[1;36m, in \u001b[1;35m<module>\u001b[1;36m\u001b[0m\n\u001b[1;33m    import dataservices as ds\u001b[0m\n",
      "\u001b[1;36m  File \u001b[1;32m\"C:\\Users\\dipesh-10\\Desktop\\python-webhooks\\dataservices.py\"\u001b[1;36m, line \u001b[1;32m137\u001b[0m\n\u001b[1;33m    print(ret)\u001b[0m\n\u001b[1;37m              ^\u001b[0m\n\u001b[1;31mIndentationError\u001b[0m\u001b[1;31m:\u001b[0m unindent does not match any outer indentation level\n"
     ]
    }
   ],
   "source": [
    "import dataservices as dss\n",
    "import pandas as pd"
   ]
  },
  {
   "cell_type": "code",
   "execution_count": null,
   "metadata": {},
   "outputs": [],
   "source": []
  },
  {
   "cell_type": "code",
   "execution_count": null,
   "metadata": {},
   "outputs": [],
   "source": [
    "aa = a[a['provience']==5]\n",
    "aa.groupby(['title_en'])['title_en']"
   ]
  },
  {
   "cell_type": "code",
   "execution_count": null,
   "metadata": {},
   "outputs": [],
   "source": [
    "a.groupby('provience').sum()[['active','recovered','death']]"
   ]
  },
  {
   "cell_type": "code",
   "execution_count": null,
   "metadata": {},
   "outputs": [],
   "source": [
    "data = aa.groupby('title_en').sum()[['active','recovered','death']]\n",
    "data.head()"
   ]
  },
  {
   "cell_type": "code",
   "execution_count": null,
   "metadata": {},
   "outputs": [],
   "source": [
    "for index, row in data.iterrows():\n",
    "    print(row['active'], row['death'])"
   ]
  },
  {
   "cell_type": "code",
   "execution_count": null,
   "metadata": {},
   "outputs": [],
   "source": [
    "def ard(proviene, code):\n",
    "    df = ds.create_covid_df()\n",
    "    s = pd.get_dummies(df.currentstate)\n",
    "    a = pd.concat([df,s],axis=1)\n",
    "    prov = a[a['provience']==proviene]\n",
    "    if(code == 'district'):\n",
    "        dat = \"Affected Districts Provience: \"+str(proviene)+\"\\n\"\n",
    "        data = prov.groupby('title_en').sum()[['active','recovered','death']]\n",
    "    else:\n",
    "        dat = \"Affected VDC/MUN Provience: \"+str(proviene)+\"\\n\"\n",
    "        data = prov.groupby('title').sum()[['active','recovered','death']]\n",
    "        \n",
    "    print(data)\n",
    "    for index, row in data.iterrows():\n",
    "        total = row['active']+row['recovered']+row['death']\n",
    "        dat+=\"\"+str(index)+\" \"+str(total)+\" (\"+str(row['recovered'])+\") - \"+str(row['death'])+\"\\n\"    \n",
    "    \n",
    "    return(dat) \n",
    "\n",
    "def ards(proviene):\n",
    "    df = ds.create_covid_df()\n",
    "    s = pd.get_dummies(df.currentstate)\n",
    "    a = pd.concat([df,s],axis=1)\n",
    "    prov = a[a['provience']==proviene]\n",
    "    data = prov.sum()[['active','recovered','death']]   \n",
    "    ret = \"Province \"+str(proviene)+\" Total: \"+str(data[0]+data[1]+data[2])+\" | Recovered: \"+str(data[1])+\" |Death: \"+str(data[2])+\" \\n\"    \n",
    "    return(ret) "
   ]
  },
  {
   "cell_type": "code",
   "execution_count": 2,
   "metadata": {},
   "outputs": [
    {
     "ename": "NameError",
     "evalue": "name 'ards' is not defined",
     "output_type": "error",
     "traceback": [
      "\u001b[1;31m---------------------------------------------------------------------------\u001b[0m",
      "\u001b[1;31mNameError\u001b[0m                                 Traceback (most recent call last)",
      "\u001b[1;32m<ipython-input-2-b75ad4d1670f>\u001b[0m in \u001b[0;36m<module>\u001b[1;34m\u001b[0m\n\u001b[1;32m----> 1\u001b[1;33m \u001b[0mm\u001b[0m \u001b[1;33m=\u001b[0m \u001b[0mards\u001b[0m\u001b[1;33m(\u001b[0m\u001b[1;36m7\u001b[0m\u001b[1;33m)\u001b[0m\u001b[1;33m\u001b[0m\u001b[1;33m\u001b[0m\u001b[0m\n\u001b[0m\u001b[0;32m      2\u001b[0m \u001b[0mm\u001b[0m\u001b[1;33m\u001b[0m\u001b[1;33m\u001b[0m\u001b[0m\n",
      "\u001b[1;31mNameError\u001b[0m: name 'ards' is not defined"
     ]
    }
   ],
   "source": [
    "m = ards(7)\n",
    "m"
   ]
  },
  {
   "cell_type": "code",
   "execution_count": null,
   "metadata": {},
   "outputs": [],
   "source": []
  }
 ],
 "metadata": {
  "kernelspec": {
   "display_name": "Python 3",
   "language": "python",
   "name": "python3"
  },
  "language_info": {
   "codemirror_mode": {
    "name": "ipython",
    "version": 3
   },
   "file_extension": ".py",
   "mimetype": "text/x-python",
   "name": "python",
   "nbconvert_exporter": "python",
   "pygments_lexer": "ipython3",
   "version": "3.7.4"
  }
 },
 "nbformat": 4,
 "nbformat_minor": 2
}
