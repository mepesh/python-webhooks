{
 "cells": [
  {
   "cell_type": "code",
   "execution_count": 1,
   "metadata": {},
   "outputs": [],
   "source": [
    "import dataservices as ds"
   ]
  },
  {
   "cell_type": "code",
   "execution_count": 2,
   "metadata": {},
   "outputs": [
    {
     "name": "stdout",
     "output_type": "stream",
     "text": [
      "District Affected\n",
      "Parsa: 91 (2) - 0 \n",
      "Udayapur: 33 (14) - 0 \n",
      "Rautahat: 22 (0) - 0 \n",
      "Kailali: 4 (4) - 0 \n",
      "Kanchanpur: 1 (1) - 0 \n",
      "Kathmandu: 10 (4) - 0 \n",
      "Baglung: 2 (2) - 0 \n",
      "Chitwan: 3 (2) - 0 \n",
      "Dhanusa: 9 (0) - 0 \n",
      "Banke: 93 (0) - 1 \n",
      "Bhojpur: 1 (1) - 0 \n",
      "Bara: 4 (0) - 0 \n",
      "Jhapa: 12 (2) - 0 \n",
      "Rupandehi: 28 (1) - 0 \n",
      "Kapilbastu: 46 (0) - 0 \n",
      "Saptari: 1 (0) - 0 \n",
      "Bardiya: 2 (0) - 0 \n",
      "Mahottari: 3 (0) - 0 \n",
      "Bhaktapur: 5 (0) - 0 \n",
      "Sarlahi: 4 (0) - 0 \n",
      "Nawalparasi East: 3 (0) - 0 \n",
      "Dhading: 2 (0) - 0 \n",
      "Makwanpur: 2 (0) - 0 \n",
      "Dang: 4 (0) - 0 \n",
      "Siraha: 1 (0) - 0 \n",
      "Kavrepalanchok: 1 (0) - 0 \n",
      "Sindhupalchok: 1 (0) - 1 \n",
      "Dhankuta: 1 (0) - 0 \n",
      "Morang: 4 (0) - 0 \n",
      "Gulmi: 1 (0) - 0 \n",
      "Khotang: 1 (0) - 0 \n",
      "Dailekh: 1 (0) - 0 \n",
      "Sunsari: 2 (0) - 0 \n",
      "Ramechhap: 1 (0) - 0 \n",
      "Lalitpur: 1 (0) - 0 \n",
      "Sindhuli: 1 (0) - 0 \n",
      "Lamjung: 1 (0) - 0 \n",
      "\n",
      "District Affected\n",
      "Parsa: 91 (2) - 0 \n",
      "Udayapur: 33 (14) - 0 \n",
      "Rautahat: 22 (0) - 0 \n",
      "Kailali: 4 (4) - 0 \n",
      "Kanchanpur: 1 (1) - 0 \n",
      "Kathmandu: 10 (4) - 0 \n",
      "Baglung: 2 (2) - 0 \n",
      "Chitwan: 3 (2) - 0 \n",
      "Dhanusa: 9 (0) - 0 \n",
      "Banke: 93 (0) - 1 \n",
      "Bhojpur: 1 (1) - 0 \n",
      "Bara: 4 (0) - 0 \n",
      "Jhapa: 12 (2) - 0 \n",
      "Rupandehi: 28 (1) - 0 \n",
      "Kapilbastu: 46 (0) - 0 \n",
      "Saptari: 1 (0) - 0 \n",
      "Bardiya: 2 (0) - 0 \n",
      "Mahottari: 3 (0) - 0 \n",
      "Bhaktapur: 5 (0) - 0 \n",
      "Sarlahi: 4 (0) - 0 \n",
      "Nawalparasi East: 3 (0) - 0 \n",
      "Dhading: 2 (0) - 0 \n",
      "Makwanpur: 2 (0) - 0 \n",
      "Dang: 4 (0) - 0 \n",
      "Siraha: 1 (0) - 0 \n",
      "Kavrepalanchok: 1 (0) - 0 \n",
      "Sindhupalchok: 1 (0) - 1 \n",
      "Dhankuta: 1 (0) - 0 \n",
      "Morang: 4 (0) - 0 \n",
      "Gulmi: 1 (0) - 0 \n",
      "Khotang: 1 (0) - 0 \n",
      "Dailekh: 1 (0) - 0 \n",
      "Sunsari: 2 (0) - 0 \n",
      "Ramechhap: 1 (0) - 0 \n",
      "Lalitpur: 1 (0) - 0 \n",
      "Sindhuli: 1 (0) - 0 \n",
      "Lamjung: 1 (0) - 0 \n",
      "\n"
     ]
    }
   ],
   "source": [
    "print(ds.district_all_summary())"
   ]
  },
  {
   "cell_type": "code",
   "execution_count": null,
   "metadata": {},
   "outputs": [],
   "source": []
  }
 ],
 "metadata": {
  "kernelspec": {
   "display_name": "Python 3",
   "language": "python",
   "name": "python3"
  },
  "language_info": {
   "codemirror_mode": {
    "name": "ipython",
    "version": 3
   },
   "file_extension": ".py",
   "mimetype": "text/x-python",
   "name": "python",
   "nbconvert_exporter": "python",
   "pygments_lexer": "ipython3",
   "version": "3.7.4"
  }
 },
 "nbformat": 4,
 "nbformat_minor": 2
}
