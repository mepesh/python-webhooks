{
 "cells": [
  {
   "cell_type": "code",
   "execution_count": 1,
   "metadata": {},
   "outputs": [],
   "source": [
    "import dataservices as dss\n",
    "import pandas as pd"
   ]
  },
  {
   "cell_type": "code",
   "execution_count": 2,
   "metadata": {},
   "outputs": [
    {
     "name": "stdout",
     "output_type": "stream",
     "text": [
      "Affected VDC/MUN Provience: 7\n",
      "Dhangadhi 2 (2) - 0\n",
      "Mohanyal 2 (2) - 0\n",
      "Shuklaphanta National Park 1 (1) - 0\n",
      "\n"
     ]
    }
   ],
   "source": [
    "print(dss.ard(7,'municipality'))"
   ]
  },
  {
   "cell_type": "code",
   "execution_count": 3,
   "metadata": {},
   "outputs": [
    {
     "ename": "NameError",
     "evalue": "name 'a' is not defined",
     "output_type": "error",
     "traceback": [
      "\u001b[1;31m---------------------------------------------------------------------------\u001b[0m",
      "\u001b[1;31mNameError\u001b[0m                                 Traceback (most recent call last)",
      "\u001b[1;32m<ipython-input-3-878c4a018bef>\u001b[0m in \u001b[0;36m<module>\u001b[1;34m\u001b[0m\n\u001b[1;32m----> 1\u001b[1;33m \u001b[0maa\u001b[0m \u001b[1;33m=\u001b[0m \u001b[0ma\u001b[0m\u001b[1;33m[\u001b[0m\u001b[0ma\u001b[0m\u001b[1;33m[\u001b[0m\u001b[1;34m'provience'\u001b[0m\u001b[1;33m]\u001b[0m\u001b[1;33m==\u001b[0m\u001b[1;36m5\u001b[0m\u001b[1;33m]\u001b[0m\u001b[1;33m\u001b[0m\u001b[1;33m\u001b[0m\u001b[0m\n\u001b[0m\u001b[0;32m      2\u001b[0m \u001b[0maa\u001b[0m\u001b[1;33m.\u001b[0m\u001b[0mgroupby\u001b[0m\u001b[1;33m(\u001b[0m\u001b[1;33m[\u001b[0m\u001b[1;34m'title_en'\u001b[0m\u001b[1;33m]\u001b[0m\u001b[1;33m)\u001b[0m\u001b[1;33m[\u001b[0m\u001b[1;34m'title_en'\u001b[0m\u001b[1;33m]\u001b[0m\u001b[1;33m\u001b[0m\u001b[1;33m\u001b[0m\u001b[0m\n",
      "\u001b[1;31mNameError\u001b[0m: name 'a' is not defined"
     ]
    }
   ],
   "source": [
    "aa = a[a['provience']==5]\n",
    "aa.groupby(['title_en'])['title_en']"
   ]
  },
  {
   "cell_type": "code",
   "execution_count": null,
   "metadata": {},
   "outputs": [],
   "source": [
    "a.groupby('provience').sum()[['active','recovered','death']]"
   ]
  },
  {
   "cell_type": "code",
   "execution_count": null,
   "metadata": {},
   "outputs": [],
   "source": [
    "data = aa.groupby('title_en').sum()[['active','recovered','death']]\n",
    "data.head()"
   ]
  },
  {
   "cell_type": "code",
   "execution_count": null,
   "metadata": {},
   "outputs": [],
   "source": [
    "for index, row in data.iterrows():\n",
    "    print(row['active'], row['death'])"
   ]
  },
  {
   "cell_type": "code",
   "execution_count": null,
   "metadata": {},
   "outputs": [],
   "source": [
    "def ard(proviene, code):\n",
    "    df = ds.create_covid_df()\n",
    "    s = pd.get_dummies(df.currentstate)\n",
    "    a = pd.concat([df,s],axis=1)\n",
    "    prov = a[a['provience']==proviene]\n",
    "    if(code == 'district'):\n",
    "        dat = \"Affected Districts Provience: \"+str(proviene)+\"\\n\"\n",
    "        data = prov.groupby('title_en').sum()[['active','recovered','death']]\n",
    "    else:\n",
    "        dat = \"Affected VDC/MUN Provience: \"+str(proviene)+\"\\n\"\n",
    "        data = prov.groupby('title').sum()[['active','recovered','death']]\n",
    "        \n",
    "    print(data)\n",
    "    for index, row in data.iterrows():\n",
    "        total = row['active']+row['recovered']+row['death']\n",
    "        dat+=\"\"+str(index)+\" \"+str(total)+\" (\"+str(row['recovered'])+\") - \"+str(row['death'])+\"\\n\"    \n",
    "    \n",
    "    return(dat) \n",
    "\n",
    "def ards(proviene):\n",
    "    df = ds.create_covid_df()\n",
    "    s = pd.get_dummies(df.currentstate)\n",
    "    a = pd.concat([df,s],axis=1)\n",
    "    prov = a[a['provience']==proviene]\n",
    "    data = prov.sum()[['active','recovered','death']]   \n",
    "    ret = \"Province \"+str(proviene)+\" Total: \"+str(data[0]+data[1]+data[2])+\" | Recovered: \"+str(data[1])+\" |Death: \"+str(data[2])+\" \\n\"    \n",
    "    return(ret) "
   ]
  },
  {
   "cell_type": "code",
   "execution_count": null,
   "metadata": {},
   "outputs": [],
   "source": [
    "m = ards(7)\n",
    "m"
   ]
  },
  {
   "cell_type": "code",
   "execution_count": null,
   "metadata": {},
   "outputs": [],
   "source": []
  }
 ],
 "metadata": {
  "kernelspec": {
   "display_name": "Python 3",
   "language": "python",
   "name": "python3"
  },
  "language_info": {
   "codemirror_mode": {
    "name": "ipython",
    "version": 3
   },
   "file_extension": ".py",
   "mimetype": "text/x-python",
   "name": "python",
   "nbconvert_exporter": "python",
   "pygments_lexer": "ipython3",
   "version": "3.7.4"
  }
 },
 "nbformat": 4,
 "nbformat_minor": 2
}
