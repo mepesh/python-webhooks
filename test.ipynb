{
 "cells": [
  {
   "cell_type": "code",
   "execution_count": 1,
   "metadata": {},
   "outputs": [],
   "source": [
    "import dataservices as ds"
   ]
  },
  {
   "cell_type": "code",
   "execution_count": 2,
   "metadata": {},
   "outputs": [
    {
     "name": "stdout",
     "output_type": "stream",
     "text": [
      "Province 1: 54(17) - 0\n",
      "Province 2: 135(2) - 0\n",
      "Bagmati : 27(6) - 1\n",
      "Gandaki : 6(2) - 0\n",
      "Provience 5 : 174(1) - 1\n",
      "Karnali : 1(0) - 0\n",
      "SudurPaschim : 5(5) - 0\n",
      "\n"
     ]
    }
   ],
   "source": [
    "print(ds.provience_all_summary())"
   ]
  },
  {
   "cell_type": "code",
   "execution_count": null,
   "metadata": {},
   "outputs": [],
   "source": []
  }
 ],
 "metadata": {
  "kernelspec": {
   "display_name": "Python 3",
   "language": "python",
   "name": "python3"
  },
  "language_info": {
   "codemirror_mode": {
    "name": "ipython",
    "version": 3
   },
   "file_extension": ".py",
   "mimetype": "text/x-python",
   "name": "python",
   "nbconvert_exporter": "python",
   "pygments_lexer": "ipython3",
   "version": "3.7.4"
  }
 },
 "nbformat": 4,
 "nbformat_minor": 2
}
